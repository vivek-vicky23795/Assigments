{
 "cells": [
  {
   "cell_type": "markdown",
   "metadata": {},
   "source": [
    "## Python Assigment 2:                                    (VIVEK MH)"
   ]
  },
  {
   "cell_type": "raw",
   "metadata": {},
   "source": [
    " Q1) Create the below pattern using nested for loop in Python.\n",
    "\n",
    "-     *\n",
    "-     * *\n",
    "-     * * *\n",
    "-     * * * *\n",
    "-     * * * * *\n",
    "-     * * * *\n",
    "-     * * *\n",
    "-     * *\n",
    "-     *\n"
   ]
  },
  {
   "cell_type": "code",
   "execution_count": 2,
   "metadata": {},
   "outputs": [
    {
     "name": "stdout",
     "output_type": "stream",
     "text": [
      "Enter the number of rows: 5\n",
      "* \n",
      "* * \n",
      "* * * \n",
      "* * * * \n",
      "* * * * * \n",
      "* * * * \n",
      "* * * \n",
      "* * \n",
      "* \n",
      "\n"
     ]
    }
   ],
   "source": [
    "# Creating the above pattern from the above problem statement\n",
    "\n",
    "rows = int(input(\"Enter the number of rows: \")) # Converting a String into a Number..\n",
    "\n",
    "# i is the Row\n",
    "# j is the columns\n",
    "\n",
    "# The ist half of the pattern.....\n",
    "\n",
    "for i in range (0, rows):         # So the 1st half of the pattern 5 rows is needed \n",
    "    for j in range(0, i + 1):     # The Pattern should be in incermental order..\n",
    "        print(\"*\", end = ' ')     # so Specifing the row size = 5  from user\n",
    "    print()\n",
    "    \n",
    "# The Second of the pattern....\n",
    "    \n",
    "for i in range (rows, 0, -1):        # So the 2nd half of the pattern 4 rows is required\n",
    "    for j in range(0, i -1):         # The Pattern Shoukld be in Decremental Order..\n",
    "        print(\"*\", end = ' ')\n",
    "    print()\n",
    "\n",
    "\n",
    "# Lets The Rows = 5....."
   ]
  },
  {
   "cell_type": "raw",
   "metadata": {},
   "source": [
    "2. Write a Python program to reverse a word after accepting the input from the user.\n",
    "\n",
    "Sample Output:\n",
    "    \n",
    "Input word: ineuron\n",
    "    \n",
    "Output: norueni"
   ]
  },
  {
   "cell_type": "code",
   "execution_count": 3,
   "metadata": {},
   "outputs": [
    {
     "name": "stdout",
     "output_type": "stream",
     "text": [
      "Enter The Name to Be Reversed : ineuron\n",
      "The Reversed Name is norueni: \n"
     ]
    }
   ],
   "source": [
    "# Lets Take an Input From The User's Side ....\n",
    "\n",
    "Name = input(\"Enter The Name to Be Reversed : \")\n",
    "\n",
    "print(\"The Reversed Name is {}: \".format(Name[::-1]))\n",
    "\n"
   ]
  },
  {
   "cell_type": "code",
   "execution_count": null,
   "metadata": {},
   "outputs": [],
   "source": []
  }
 ],
 "metadata": {
  "kernelspec": {
   "display_name": "Python 3",
   "language": "python",
   "name": "python3"
  },
  "language_info": {
   "codemirror_mode": {
    "name": "ipython",
    "version": 3
   },
   "file_extension": ".py",
   "mimetype": "text/x-python",
   "name": "python",
   "nbconvert_exporter": "python",
   "pygments_lexer": "ipython3",
   "version": "3.8.5"
  }
 },
 "nbformat": 4,
 "nbformat_minor": 4
}
